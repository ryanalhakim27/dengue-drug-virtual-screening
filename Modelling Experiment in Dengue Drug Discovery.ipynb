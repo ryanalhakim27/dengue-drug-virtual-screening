{
 "cells": [
  {
   "cell_type": "code",
   "execution_count": 229,
   "id": "43c59325",
   "metadata": {},
   "outputs": [],
   "source": [
    "from sklearn.metrics import mean_squared_error, r2_score\n",
    "from sklearn.model_selection import train_test_split, cross_val_score, GridSearchCV\n",
    "from sklearn.linear_model import LinearRegression, Ridge\n",
    "from sklearn.ensemble import RandomForestRegressor\n",
    "import pandas as pd\n",
    "import numpy as np\n",
    "import matplotlib.pyplot as plt\n",
    "import seaborn as sns"
   ]
  },
  {
   "cell_type": "code",
   "execution_count": 230,
   "id": "e99e0fef",
   "metadata": {},
   "outputs": [],
   "source": [
    "df=pd.read_csv('dengue_bioactivity_dataset.csv')"
   ]
  },
  {
   "cell_type": "code",
   "execution_count": 231,
   "id": "961fe21f",
   "metadata": {},
   "outputs": [],
   "source": [
    "def split_test_train(df):\n",
    "    #Split input output\n",
    "    X=df.drop(columns=['molecule_chembl_id','pIC50'])\n",
    "    y=df['pIC50']\n",
    "    #Split train and test set\n",
    "    X_train, X_test, y_train, y_test=train_test_split(X,y,test_size=0.2,random_state=123)\n",
    "    return X_train, X_test, y_train, y_test   "
   ]
  },
  {
   "cell_type": "code",
   "execution_count": 232,
   "id": "70db903d",
   "metadata": {},
   "outputs": [],
   "source": [
    "X_train, X_test, y_train, y_test=split_test_train(df)"
   ]
  },
  {
   "cell_type": "code",
   "execution_count": 233,
   "id": "736cae21",
   "metadata": {},
   "outputs": [],
   "source": [
    "def baseline(y_train):\n",
    "    baseline_prediction=np.mean(y_train)\n",
    "    baseline_mse=mean_squared_error(y_train,np.ones(len(y_train))*baseline_prediction)\n",
    "    return baseline_mse, baseline_prediction"
   ]
  },
  {
   "cell_type": "code",
   "execution_count": 234,
   "id": "837db063",
   "metadata": {},
   "outputs": [],
   "source": [
    "baseline_mse, baseline_prediction = baseline(y_train)"
   ]
  },
  {
   "cell_type": "code",
   "execution_count": 235,
   "id": "cca58adb",
   "metadata": {},
   "outputs": [
    {
     "data": {
      "text/plain": [
       "0.2360655764266686"
      ]
     },
     "execution_count": 235,
     "metadata": {},
     "output_type": "execute_result"
    }
   ],
   "source": [
    "baseline_mse"
   ]
  },
  {
   "cell_type": "markdown",
   "id": "7d3de036",
   "metadata": {},
   "source": [
    "## Linear Regression"
   ]
  },
  {
   "cell_type": "code",
   "execution_count": 236,
   "id": "4e76746b",
   "metadata": {},
   "outputs": [],
   "source": [
    "def fit_linear_model(X_train, y_train,\n",
    "              X_test, y_test):\n",
    "    \n",
    "    #Make linear regression object\n",
    "    lr=LinearRegression()\n",
    "    \n",
    "    #Make cross validation score\n",
    "    scores = cross_val_score(estimator = lr,\n",
    "                         X = X_train,\n",
    "                         y = y_train,\n",
    "                         cv = 10,\n",
    "                         scoring = \"neg_mean_squared_error\")\n",
    "    cv_score = -np.mean(scores)\n",
    "    \n",
    "    #Fitting model\n",
    "    lr.fit(X = X_train,\n",
    "       y = y_train)\n",
    "    \n",
    "    # find train score\n",
    "    y_train_pred = lr.predict(X_train)\n",
    "    train_score = mean_squared_error(y_train, y_train_pred)\n",
    "    r2_train_score=r2_score(y_train, y_train_pred)\n",
    "    \n",
    "    # find test score\n",
    "    y_test_pred = lr.predict(X_test)\n",
    "    test_score = mean_squared_error(y_test, y_test_pred)\n",
    "    r2_test_score=r2_score(y_test, y_test_pred)\n",
    "\n",
    "    # Extract the coefficient\n",
    "    coef_ = lr.coef_\n",
    "    intercept_ = lr.intercept_\n",
    "    lr_params = np.append(coef_, intercept_)\n",
    "\n",
    "    lr_params_df = pd.DataFrame(lr_params,\n",
    "                                index = list(X_train.columns) + [\"constant\"],\n",
    "                                columns = [\"coefficient\"])\n",
    "    \n",
    "    return lr, train_score, cv_score, test_score, lr_params_df, r2_train_score, r2_test_score"
   ]
  },
  {
   "cell_type": "code",
   "execution_count": 247,
   "id": "d8c18e14",
   "metadata": {},
   "outputs": [
    {
     "name": "stdout",
     "output_type": "stream",
     "text": [
      "train score: 0.06945994068432937, cv score: 2.2006617796264395e+20, test_score: 6.091904314899194e+20\n"
     ]
    }
   ],
   "source": [
    "lr, train_score, cv_score, test_score, lr_params_df, r2_train_score, r2_test_score= fit_linear_model(X_train, y_train, X_test, y_test)\n",
    "print(f\"train score: {train_score}, cv score: {cv_score}, test_score: {test_score}\")\n",
    "linear_regression_model={'train_score': train_score,\n",
    "            'cv_score':cv_score,\n",
    "            'test_score':test_score}"
   ]
  },
  {
   "cell_type": "code",
   "execution_count": 238,
   "id": "c368a548",
   "metadata": {},
   "outputs": [
    {
     "name": "stdout",
     "output_type": "stream",
     "text": [
      "r2_train_score:0.7057599768007412,r2_test_score:-2.1549580581270153e+21\n"
     ]
    }
   ],
   "source": [
    "print(f'r2_train_score:{r2_train_score},r2_test_score:{r2_test_score}')"
   ]
  },
  {
   "cell_type": "markdown",
   "id": "99579702",
   "metadata": {},
   "source": [
    "Using linear regression, it cannot passed the benchmark value. The model have high variance due to relatively high disimilarity between train, CV, and test score. It is an indication that the model is overfit and need to conduct regularization (Regression Shrinkage Methods). \n",
    "<br><br>This model has high dimensioal feature, so best subset selection, forward and backward elimination will computationally expensive to conducted. Ridge Linear Regression is used because it is suitable for data with many predictor. We will create model using Ridge Linear Regression method."
   ]
  },
  {
   "cell_type": "markdown",
   "id": "c6c828e2",
   "metadata": {},
   "source": [
    "## Ridge Linear Regression"
   ]
  },
  {
   "cell_type": "code",
   "execution_count": 252,
   "id": "8795f704",
   "metadata": {},
   "outputs": [],
   "source": [
    "def ridge_best_param(X_train,y_train):\n",
    "    alphas = [0.5, 1.0, 2.5, 5.0, 10.0, 15.0, \n",
    "          25.0, 40.0, 60.0, 70.0, 75.0]\n",
    "\n",
    "    # Made model with variation on alpha value\n",
    "    ridge = Ridge()\n",
    "\n",
    "    param_space = {\"alpha\": alphas}\n",
    "    \n",
    "    # Lakukan grid search dengan CV\n",
    "    cv_ridge = GridSearchCV(estimator = ridge,\n",
    "                            param_grid = param_space,\n",
    "                            scoring = \"neg_mean_squared_error\",\n",
    "                            cv = 10)\n",
    "\n",
    "    # Fit searching\n",
    "    cv_ridge.fit(X = X_train,\n",
    "                 y = y_train)\n",
    "    \n",
    "    return cv_ridge.best_params_"
   ]
  },
  {
   "cell_type": "code",
   "execution_count": 253,
   "id": "934ded97",
   "metadata": {},
   "outputs": [
    {
     "name": "stdout",
     "output_type": "stream",
     "text": [
      "The best parameter alpha is {'alpha': 70.0}\n"
     ]
    }
   ],
   "source": [
    "best_alpha=ridge_best_param(X_train,y_train)\n",
    "print(f'The best parameter alpha is {best_alpha}')"
   ]
  },
  {
   "cell_type": "code",
   "execution_count": 260,
   "id": "22d3ce1e",
   "metadata": {},
   "outputs": [],
   "source": [
    "def ridge_model(X_train, y_train,\n",
    "                X_test, y_test,\n",
    "                alpha):\n",
    "    # Create object \n",
    "    estimator = Ridge(alpha = alpha)\n",
    "\n",
    "    # Model Fitting\n",
    "    estimator.fit(X = X_train,\n",
    "                  y = y_train)\n",
    "    \n",
    "    # Prediction score in train data\n",
    "    y_pred_train = estimator.predict(X_train)\n",
    "    train_score = mean_squared_error(y_train, y_pred_train)\n",
    "    r2_train_score=r2_score(y_train, y_pred_train)\n",
    "\n",
    "    # cross validation\n",
    "    scores = cross_val_score(estimator = estimator,\n",
    "                             X = X_train,\n",
    "                             y = y_train,\n",
    "                             cv = 10,\n",
    "                             scoring = \"neg_mean_squared_error\")\n",
    "    cv_score = -np.mean(scores)\n",
    "\n",
    "    # Prediction score in test data\n",
    "    y_pred_test = estimator.predict(X_test)\n",
    "    test_score = mean_squared_error(y_test, y_pred_test)\n",
    "    r2_test_score=r2_score(y_test, y_pred_test)\n",
    "\n",
    "    # Show the parameter\n",
    "    coef_ = estimator.coef_\n",
    "    intercept_ = estimator.intercept_\n",
    "    params = np.append(coef_, intercept_)\n",
    "\n",
    "    params_df = pd.DataFrame(params,\n",
    "                             index = list(X_train.columns) + [\"constant\"],\n",
    "                             columns = [\"coefficient\"])\n",
    "\n",
    "    mse_score = [train_score, cv_score, test_score]\n",
    "\n",
    "    return estimator, mse_score, params_df,r2_train_score,r2_test_score"
   ]
  },
  {
   "cell_type": "code",
   "execution_count": 266,
   "id": "e4167c5f",
   "metadata": {},
   "outputs": [
    {
     "name": "stdout",
     "output_type": "stream",
     "text": [
      "Train: 0.13215109742846443, CV: 0.17106016170181654, Test: 0.19515304473701056\n"
     ]
    }
   ],
   "source": [
    "alpha = best_alpha['alpha']\n",
    "_, mse_score, ridge_param_1,ridge_train_r2, ridge_test_r2  = ridge_model(X_train = X_train,\n",
    "                                          y_train = y_train,\n",
    "                                          X_test = X_test,\n",
    "                                          y_test = y_test,\n",
    "                                          alpha = alpha)\n",
    "\n",
    "train_score, cv_score, test_score = mse_score\n",
    "\n",
    "print(f\"Train: {train_score}, CV: {cv_score}, Test: {test_score}\")\n",
    "ridge_regression_model={'train_score': train_score,\n",
    "            'cv_score':cv_score,\n",
    "            'test_score':test_score}"
   ]
  },
  {
   "cell_type": "code",
   "execution_count": 262,
   "id": "ced92ba4",
   "metadata": {},
   "outputs": [
    {
     "name": "stdout",
     "output_type": "stream",
     "text": [
      "r2_train_score:0.4401932741366218,r2_test_score:0.30966311257467305\n"
     ]
    }
   ],
   "source": [
    "print(f'r2_train_score:{ridge_train_r2},r2_test_score:{ridge_test_r2}')"
   ]
  },
  {
   "cell_type": "code",
   "execution_count": 264,
   "id": "abfdde3c",
   "metadata": {},
   "outputs": [],
   "source": [
    "#Visualization of alphas parameter tuning\n",
    "def visalization_of_alpha(X_train,y_train,X_test,y_test):\n",
    "    alphas = [0.5, 1.0, 2.5, 5.0, 10.0, 15.0, \n",
    "              25.0, 40.0, 60.0, 70.0, 75.0]\n",
    "\n",
    "    mse_list = []\n",
    "    model_list = []\n",
    "\n",
    "    for alpha in alphas:\n",
    "        _, mse_i, model_i,r2_train_score,r2_test_score = ridge_model(X_train = X_train,\n",
    "                                        y_train = y_train,\n",
    "                                        X_test = X_test,\n",
    "                                        y_test = y_test,\n",
    "                                        alpha = alpha)\n",
    "    \n",
    "        mse_list.append(mse_i)\n",
    "        model_list.append(model_i)\n",
    "        \n",
    "        # Plot error\n",
    "    mse_list = np.array(mse_list)\n",
    "\n",
    "    fig, ax = plt.subplots(nrows=1, ncols=1, figsize=(10, 6))\n",
    "\n",
    "    ax.plot(alphas, mse_list[:, 0], c=\"r\", marker=\".\", label=\"Train\")\n",
    "    ax.plot(alphas, mse_list[:, 1], c=\"g\", marker=\".\", label=\"CV\")\n",
    "    ax.plot(alphas, mse_list[:, 2], c=\"b\", marker=\".\", label=\"Test\")\n",
    "\n",
    "    ax.set_xlabel(\"alpha\")\n",
    "    ax.set_ylabel(\"MSE\")\n",
    "\n",
    "    plt.grid()\n",
    "    plt.legend()\n",
    "    plt.show()"
   ]
  },
  {
   "cell_type": "code",
   "execution_count": 265,
   "id": "116bb9bd",
   "metadata": {},
   "outputs": [
    {
     "data": {
      "image/png": "[encoded data removed]",
      "text/plain": [
       "<Figure size 1000x600 with 1 Axes>"
      ]
     },
     "metadata": {},
     "output_type": "display_data"
    }
   ],
   "source": [
    "visalization_of_alpha(X_train,y_train,X_test,y_test)"
   ]
  },
  {
   "cell_type": "markdown",
   "id": "ee36c543",
   "metadata": {},
   "source": [
    "As we can see, using ridge regularization the variance of the model become lesser and model tend to be not overfitting."
   ]
  },
  {
   "cell_type": "code",
   "execution_count": 251,
   "id": "d9cf73bd",
   "metadata": {},
   "outputs": [
    {
     "data": {
      "image/png": "[encoded data removed]",
      "text/plain": [
       "<Figure size 640x480 with 1 Axes>"
      ]
     },
     "metadata": {},
     "output_type": "display_data"
    }
   ],
   "source": [
    "#Score Comparasion visualization\n",
    "method_list=['linear_regression','linear_regression','linear_regression','ridge_regression','ridge_regression','ridge_regression']\n",
    "dataset_list=[]\n",
    "mse_lists=[]\n",
    "for key in linear_regression_model.keys():\n",
    "    dataset_list.append(key)\n",
    "    mse_lists.append(linear_regression_model[key])\n",
    "\n",
    "for key in ridge_regression_model.keys():\n",
    "    dataset_list.append(key)\n",
    "    mse_lists.append(ridge_regression_model[key])\n",
    "compa=pd.DataFrame(columns=['Method','Dataset','MSE'])\n",
    "compa['Method']=method_list\n",
    "compa['Dataset']=dataset_list\n",
    "compa['MSE']=mse_lists\n",
    "vis=sns.barplot(data=compa,x='Method',y='MSE',hue='Dataset')\n",
    "vis.set_yscale(\"log\")\n"
   ]
  }
 ],
 "metadata": {
  "kernelspec": {
   "display_name": "Python 3 (ipykernel)",
   "language": "python",
   "name": "python3"
  },
  "language_info": {
   "codemirror_mode": {
    "name": "ipython",
    "version": 3
   },
   "file_extension": ".py",
   "mimetype": "text/x-python",
   "name": "python",
   "nbconvert_exporter": "python",
   "pygments_lexer": "ipython3",
   "version": "3.9.13"
  }
 },
 "nbformat": 4,
 "nbformat_minor": 5
}
